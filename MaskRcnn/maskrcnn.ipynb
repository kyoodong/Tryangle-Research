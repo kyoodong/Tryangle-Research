{
 "cells": [
  {
   "cell_type": "code",
   "execution_count": 62,
   "metadata": {
    "collapsed": true
   },
   "outputs": [],
   "source": [
    "import tensorflow as tf\n",
    "import numpy as np\n",
    "import matplotlib.pyplot as plt\n",
    "from tensorflow.keras.layers import Conv2D, BatchNormalization, Activation, GlobalAveragePooling2D, Dense, MaxPool2D\n",
    "from tensorflow.keras.models import Model"
   ]
  },
  {
   "cell_type": "code",
   "execution_count": 63,
   "outputs": [],
   "source": [
    "class ResUnit(Model):\n",
    "    def __init__(self, filter_in, filter_out, kernel_size):\n",
    "        super(ResUnit, self).__init__()\n",
    "\n",
    "        self.sequence = list()\n",
    "\n",
    "        # Resnet 특유의 덧셈 연산을 위해 입력의 차원(depth, channel)을 맞춰주는 연산\n",
    "        self.identity = Conv2D(filter_out, (1, 1), padding='valid')\n",
    "\n",
    "        # Bottleneck(down sampling)\n",
    "        self.sequence.append(Conv2D(filter_in, (1, 1), padding='valid'))\n",
    "\n",
    "        # Conv\n",
    "        self.sequence.append(Conv2D(filter_in, kernel_size, padding='same'))\n",
    "\n",
    "        # Bottleneck(up sampling)\n",
    "        self.sequence.append(Conv2D(filter_out, (1, 1), padding='valid'))\n",
    "\n",
    "        # BN, Activation\n",
    "        self.sequence.append(BatchNormalization())\n",
    "        self.sequence.append(Activation('relu'))\n",
    "\n",
    "    def __call__(self, images, training):\n",
    "        # Downsampling -> Conv -> Upsampling -> BN -> Activation -> Add\n",
    "        h = images\n",
    "        for unit in self.sequence:\n",
    "            if isinstance(unit, BatchNormalization):\n",
    "                h = unit(h, training=training)\n",
    "            else:\n",
    "                h = unit(h)\n",
    "\n",
    "        # Add\n",
    "        return self.identity(images) + h"
   ],
   "metadata": {
    "collapsed": false,
    "pycharm": {
     "name": "#%%\n"
    }
   }
  },
  {
   "cell_type": "code",
   "execution_count": 64,
   "outputs": [],
   "source": [
    "class ResLayer(Model):\n",
    "    def __init__(self, filter_in, filter_out, kernel_size, iter_count):\n",
    "        super(ResLayer, self).__init__()\n",
    "\n",
    "        self.sequence = list()\n",
    "\n",
    "        # ResUnit 을 iter_count 개수만큼 쌓아올림\n",
    "        # https://eremo2002.tistory.com/76 을 참고하여 ResNet의 논문 커널의 수를 맞춤\n",
    "        for i in range(iter_count):\n",
    "            self.sequence.append(ResUnit(filter_in, filter_out, kernel_size))\n",
    "\n",
    "    def __call__(self, images, training):\n",
    "        for layer in self.sequence:\n",
    "            images = layer(images, training)\n",
    "        return images"
   ],
   "metadata": {
    "collapsed": false,
    "pycharm": {
     "name": "#%%\n"
    }
   }
  },
  {
   "cell_type": "code",
   "execution_count": 65,
   "outputs": [],
   "source": [
    "class ResNet(Model):\n",
    "    def __init__(self, output_size):\n",
    "        super(ResNet, self).__init__()\n",
    "\n",
    "        # ResNet 모델\n",
    "        self.sequence = list()\n",
    "        self.sequence.append(Conv2D(64, (7, 7), (2, 2), padding='same'))\n",
    "        self.sequence.append(MaxPool2D((3, 3), (2, 2)))\n",
    "        self.sequence.append(ResLayer(64, 256, (3, 3), 3))\n",
    "        self.sequence.append(ResLayer(128, 512, (3, 3), 4))\n",
    "        self.sequence.append(ResLayer(256, 1024, (3, 3), 6))\n",
    "        self.sequence.append(ResLayer(512, 2048, (3, 3), 3))\n",
    "        self.sequence.append(GlobalAveragePooling2D())\n",
    "        self.sequence.append(Dense(output_size, activation='softmax'))\n",
    "\n",
    "    def __call__(self, images, training):\n",
    "        for layer in self.sequence:\n",
    "            if isinstance(layer, ResLayer):\n",
    "                images = layer(images, training)\n",
    "            else:\n",
    "                images = layer(images)\n",
    "        return images"
   ],
   "metadata": {
    "collapsed": false,
    "pycharm": {
     "name": "#%%\n"
    }
   }
  },
  {
   "cell_type": "code",
   "execution_count": 66,
   "outputs": [],
   "source": [
    "# ResNet 테스트 코드.\n",
    "# mnist 를 학습하여 맞추는 모델로, 97%의 정확도를 지님\n",
    "'''\n",
    "BATCH_SIZE = 32\n",
    "mnist = tf.keras.datasets.mnist\n",
    "(train_x, train_y), (test_x, test_y) = mnist.load_data()\n",
    "train_x = train_x[..., tf.newaxis].astype(np.float32)\n",
    "test_x = test_x[..., tf.newaxis].astype(np.float32)\n",
    "\n",
    "train_ds = tf.data.Dataset.from_tensor_slices((train_x, train_y)).shuffle(1000).batch(BATCH_SIZE)\n",
    "test_ds = tf.data.Dataset.from_tensor_slices((test_x, test_y)).batch(BATCH_SIZE)\n",
    "'''"
   ],
   "metadata": {
    "collapsed": false,
    "pycharm": {
     "name": "#%%\n"
    }
   }
  },
  {
   "cell_type": "code",
   "execution_count": 67,
   "outputs": [],
   "source": [
    "'''\n",
    "model = ResNet(10)\n",
    "loss_object = tf.keras.losses.SparseCategoricalCrossentropy()\n",
    "optimizer = tf.keras.optimizers.Adam()\n",
    "\n",
    "train_loss = tf.keras.metrics.Mean(\"train_loss\")\n",
    "train_accuracy = tf.keras.metrics.SparseCategoricalAccuracy(\"train_accuracy\")\n",
    "\n",
    "test_loss = tf.keras.metrics.Mean(\"test_loss\")\n",
    "test_accuracy = tf.keras.metrics.SparseCategoricalAccuracy(\"test_accuracy\")\n",
    "'''"
   ],
   "metadata": {
    "collapsed": false,
    "pycharm": {
     "name": "#%%\n"
    }
   }
  },
  {
   "cell_type": "code",
   "execution_count": 68,
   "outputs": [],
   "source": [
    "'''\n",
    "@tf.function\n",
    "def train_step(model, images, labels, loss_object, optimizer, train_loss, train_accuracy):\n",
    "    with tf.GradientTape() as tape:\n",
    "        predictions = model(images, True)\n",
    "        loss = loss_object(labels, predictions)\n",
    "    gradients = tape.gradient(loss, model.trainable_variables)\n",
    "    optimizer.apply_gradients(zip(gradients, model.trainable_variables))\n",
    "    train_loss(loss)\n",
    "    train_accuracy(labels, predictions)\n",
    "\n",
    "@tf.function\n",
    "def test_step(model, images, labels, loss_object, test_loss, test_accuracy):\n",
    "    predictions = model(images, False)\n",
    "    loss = loss_object(labels, predictions)\n",
    "    test_loss(loss)\n",
    "    test_accuracy(labels, predictions)\n",
    "'''"
   ],
   "metadata": {
    "collapsed": false,
    "pycharm": {
     "name": "#%%\n"
    }
   }
  },
  {
   "cell_type": "code",
   "execution_count": 70,
   "outputs": [
    {
     "name": "stdout",
     "output_type": "stream",
     "text": [
      "Epoch 1, Test loss : 0.24728307127952576, Test accuracy: 0.9351181983947754\n",
      "Epoch 2, Test loss : 0.24831706285476685, Test accuracy: 0.9345999956130981\n",
      "Epoch 3, Test loss : 0.23544898629188538, Test accuracy: 0.9376461505889893\n",
      "Epoch 4, Test loss : 0.22442807257175446, Test accuracy: 0.9403785467147827\n",
      "Epoch 5, Test loss : 0.21675211191177368, Test accuracy: 0.9419866800308228\n",
      "Epoch 6, Test loss : 0.20636604726314545, Test accuracy: 0.9445499777793884\n",
      "Epoch 7, Test loss : 0.19734534621238708, Test accuracy: 0.9469352960586548\n",
      "Epoch 8, Test loss : 0.18974082171916962, Test accuracy: 0.9487666487693787\n",
      "Epoch 9, Test loss : 0.1818980723619461, Test accuracy: 0.9507052898406982\n",
      "Epoch 10, Test loss : 0.17549504339694977, Test accuracy: 0.9523299932479858\n"
     ]
    }
   ],
   "source": [
    "'''\n",
    "EPOCHS = 10\n",
    "for epoch in range(EPOCHS):\n",
    "    for images, labels in train_ds:\n",
    "        train_step(model, images, labels, loss_object, optimizer, train_loss, train_accuracy)\n",
    "\n",
    "    for images, labels in test_ds:\n",
    "        test_step(model, images, labels, loss_object, test_loss, test_accuracy)\n",
    "\n",
    "    print('Epoch {}, Test loss : {}, Test accuracy: {}'.format(epoch + 1, test_loss.result(), test_accuracy.result()))\n",
    "'''"
   ],
   "metadata": {
    "collapsed": false,
    "pycharm": {
     "name": "#%%\n"
    }
   }
  },
  {
   "cell_type": "code",
   "execution_count": null,
   "outputs": [],
   "source": [],
   "metadata": {
    "collapsed": false,
    "pycharm": {
     "name": "#%%\n"
    }
   }
  },
  {
   "cell_type": "code",
   "execution_count": null,
   "outputs": [],
   "source": [
    "\n"
   ],
   "metadata": {
    "collapsed": false,
    "pycharm": {
     "name": "#%%\n"
    }
   }
  }
 ],
 "metadata": {
  "kernelspec": {
   "display_name": "Python 3",
   "language": "python",
   "name": "python3"
  },
  "language_info": {
   "codemirror_mode": {
    "name": "ipython",
    "version": 2
   },
   "file_extension": ".py",
   "mimetype": "text/x-python",
   "name": "python",
   "nbconvert_exporter": "python",
   "pygments_lexer": "ipython2",
   "version": "2.7.6"
  }
 },
 "nbformat": 4,
 "nbformat_minor": 0
}