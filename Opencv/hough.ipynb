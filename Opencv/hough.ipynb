{
 "cells": [
  {
   "cell_type": "code",
   "execution_count": null,
   "metadata": {
    "collapsed": true,
    "pycharm": {
     "is_executing": true
    }
   },
   "outputs": [],
   "source": [
    "\n",
    "import cv2\n",
    "import numpy as np\n",
    "import matplotlib.pyplot as plt\n",
    "\n",
    "src = cv2.imread('images/18443993_1118340654938583_6168835005821747200_n.jpg')\n",
    "dst = src.copy()\n",
    "gray = cv2.cvtColor(src, cv2.COLOR_BGR2GRAY)\n",
    "canny = cv2.Canny(gray, 5000, 1500, apertureSize=5, L2gradient=True)\n",
    "\n",
    "lines = cv2.HoughLines(canny, 0.8, (np.pi) / 2, 150, srn=100, stn=200, min_theta=0, max_theta=np.pi)\n",
    "\n",
    "for i in lines:\n",
    "    rho, theta = i[0]\n",
    "    a, b = np.cos(theta), np.sin(theta)\n",
    "    x0, y0 = a * rho, b * rho\n",
    "\n",
    "    scale = src.shape[0] + src.shape[1]\n",
    "\n",
    "    x1 = int(x0 + scale * -b)\n",
    "    y1 = int(y0 + scale * a)\n",
    "    x2 = int(x0 - scale * -b)\n",
    "    y2 = int(y0 - scale * a)\n",
    "\n",
    "    cv2.line(dst, (x1, y1), (x2, y2), (0, 0, 255), 2)\n",
    "    cv2.circle(dst, (x0, y0), 3, (255, 0, 0), 5, cv2.FILLED)\n",
    "\n",
    "# plt.imshow(canny)\n",
    "plt.imshow(dst)\n",
    "plt.show()"
   ]
  },
  {
   "cell_type": "code",
   "execution_count": null,
   "outputs": [],
   "source": [],
   "metadata": {
    "collapsed": false,
    "pycharm": {
     "name": "#%%\n"
    }
   }
  }
 ],
 "metadata": {
  "kernelspec": {
   "display_name": "Python 3",
   "language": "python",
   "name": "python3"
  },
  "language_info": {
   "codemirror_mode": {
    "name": "ipython",
    "version": 2
   },
   "file_extension": ".py",
   "mimetype": "text/x-python",
   "name": "python",
   "nbconvert_exporter": "python",
   "pygments_lexer": "ipython2",
   "version": "2.7.6"
  }
 },
 "nbformat": 4,
 "nbformat_minor": 0
}